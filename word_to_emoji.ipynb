{
 "cells": [
  {
   "cell_type": "markdown",
   "source": [
    "## <font size=10> <strong>Emojislation\n",
    "\n",
    "TATIA Final Project                                                         \n",
    "30 Jan 2024, Université Côte d'Azur.   \n",
    "                                                      \n",
    "Charafeddine Achir & Rafael Baptista                                                        \n"
   ],
   "metadata": {
    "id": "kgcLd0zKclc0"
   }
  },
  {
   "cell_type": "markdown",
   "source": [
    "## <font size=8> <strong>Translating words to emojis\n"
   ],
   "metadata": {
    "id": "YNFgBQ10kinG"
   }
  },
  {
   "cell_type": "markdown",
   "source": [
    "## <font size=8> <strong>Essential imports"
   ],
   "metadata": {
    "id": "rjTfp6C4cuE9"
   }
  },
  {
   "cell_type": "code",
   "source": [
    "pip install emoji --upgrade"
   ],
   "metadata": {
    "colab": {
     "base_uri": "https://localhost:8080/"
    },
    "id": "EjLtNfx1cu4V",
    "outputId": "00519ab6-467d-40fc-e29c-5a140b1080fc",
    "ExecuteTime": {
     "end_time": "2024-01-22T02:10:16.402886Z",
     "start_time": "2024-01-22T02:10:14.790941Z"
    }
   },
   "execution_count": 1,
   "outputs": [
    {
     "name": "stdout",
     "output_type": "stream",
     "text": [
      "Collecting emoji\r\n",
      "  Using cached emoji-2.10.0-py2.py3-none-any.whl.metadata (5.3 kB)\r\n",
      "Using cached emoji-2.10.0-py2.py3-none-any.whl (457 kB)\r\n",
      "Installing collected packages: emoji\r\n",
      "Successfully installed emoji-2.10.0\r\n",
      "\r\n",
      "\u001B[1m[\u001B[0m\u001B[34;49mnotice\u001B[0m\u001B[1;39;49m]\u001B[0m\u001B[39;49m A new release of pip is available: \u001B[0m\u001B[31;49m23.3.1\u001B[0m\u001B[39;49m -> \u001B[0m\u001B[32;49m23.3.2\u001B[0m\r\n",
      "\u001B[1m[\u001B[0m\u001B[34;49mnotice\u001B[0m\u001B[1;39;49m]\u001B[0m\u001B[39;49m To update, run: \u001B[0m\u001B[32;49mpip install --upgrade pip\u001B[0m\r\n",
      "Note: you may need to restart the kernel to use updated packages.\n"
     ]
    }
   ]
  },
  {
   "cell_type": "code",
   "execution_count": 2,
   "outputs": [
    {
     "name": "stdout",
     "output_type": "stream",
     "text": [
      "Collecting matplotlib\r\n",
      "  Using cached matplotlib-3.8.2-cp311-cp311-macosx_11_0_arm64.whl.metadata (5.8 kB)\r\n",
      "Collecting contourpy>=1.0.1 (from matplotlib)\r\n",
      "  Using cached contourpy-1.2.0-cp311-cp311-macosx_11_0_arm64.whl.metadata (5.8 kB)\r\n",
      "Collecting cycler>=0.10 (from matplotlib)\r\n",
      "  Using cached cycler-0.12.1-py3-none-any.whl.metadata (3.8 kB)\r\n",
      "Collecting fonttools>=4.22.0 (from matplotlib)\r\n",
      "  Using cached fonttools-4.47.2-cp311-cp311-macosx_10_9_universal2.whl.metadata (157 kB)\r\n",
      "Collecting kiwisolver>=1.3.1 (from matplotlib)\r\n",
      "  Using cached kiwisolver-1.4.5-cp311-cp311-macosx_11_0_arm64.whl.metadata (6.4 kB)\r\n",
      "Collecting numpy<2,>=1.21 (from matplotlib)\r\n",
      "  Using cached numpy-1.26.3-cp311-cp311-macosx_11_0_arm64.whl.metadata (115 kB)\r\n",
      "Requirement already satisfied: packaging>=20.0 in /Users/rafaelbaptista/Documents/M1/TATIA/pip_env/lib/python3.11/site-packages (from matplotlib) (23.2)\r\n",
      "Collecting pillow>=8 (from matplotlib)\r\n",
      "  Using cached pillow-10.2.0-cp311-cp311-macosx_11_0_arm64.whl.metadata (9.7 kB)\r\n",
      "Collecting pyparsing>=2.3.1 (from matplotlib)\r\n",
      "  Using cached pyparsing-3.1.1-py3-none-any.whl.metadata (5.1 kB)\r\n",
      "Requirement already satisfied: python-dateutil>=2.7 in /Users/rafaelbaptista/Documents/M1/TATIA/pip_env/lib/python3.11/site-packages (from matplotlib) (2.8.2)\r\n",
      "Requirement already satisfied: six>=1.5 in /Users/rafaelbaptista/Documents/M1/TATIA/pip_env/lib/python3.11/site-packages (from python-dateutil>=2.7->matplotlib) (1.16.0)\r\n",
      "Using cached matplotlib-3.8.2-cp311-cp311-macosx_11_0_arm64.whl (7.5 MB)\r\n",
      "Using cached contourpy-1.2.0-cp311-cp311-macosx_11_0_arm64.whl (243 kB)\r\n",
      "Using cached cycler-0.12.1-py3-none-any.whl (8.3 kB)\r\n",
      "Using cached fonttools-4.47.2-cp311-cp311-macosx_10_9_universal2.whl (2.8 MB)\r\n",
      "Using cached kiwisolver-1.4.5-cp311-cp311-macosx_11_0_arm64.whl (66 kB)\r\n",
      "Using cached numpy-1.26.3-cp311-cp311-macosx_11_0_arm64.whl (14.0 MB)\r\n",
      "Using cached pillow-10.2.0-cp311-cp311-macosx_11_0_arm64.whl (3.3 MB)\r\n",
      "Using cached pyparsing-3.1.1-py3-none-any.whl (103 kB)\r\n",
      "Installing collected packages: pyparsing, pillow, numpy, kiwisolver, fonttools, cycler, contourpy, matplotlib\r\n",
      "Successfully installed contourpy-1.2.0 cycler-0.12.1 fonttools-4.47.2 kiwisolver-1.4.5 matplotlib-3.8.2 numpy-1.26.3 pillow-10.2.0 pyparsing-3.1.1\r\n",
      "\r\n",
      "\u001B[1m[\u001B[0m\u001B[34;49mnotice\u001B[0m\u001B[1;39;49m]\u001B[0m\u001B[39;49m A new release of pip is available: \u001B[0m\u001B[31;49m23.3.1\u001B[0m\u001B[39;49m -> \u001B[0m\u001B[32;49m23.3.2\u001B[0m\r\n",
      "\u001B[1m[\u001B[0m\u001B[34;49mnotice\u001B[0m\u001B[1;39;49m]\u001B[0m\u001B[39;49m To update, run: \u001B[0m\u001B[32;49mpip install --upgrade pip\u001B[0m\r\n",
      "Note: you may need to restart the kernel to use updated packages.\n"
     ]
    }
   ],
   "source": [
    "pip install matplotlib"
   ],
   "metadata": {
    "collapsed": false,
    "ExecuteTime": {
     "end_time": "2024-01-22T02:10:26.899272Z",
     "start_time": "2024-01-22T02:10:22.623372Z"
    }
   }
  },
  {
   "cell_type": "code",
   "execution_count": 3,
   "metadata": {
    "id": "HDPFtgXpckgF",
    "ExecuteTime": {
     "end_time": "2024-01-22T02:10:31.249108Z",
     "start_time": "2024-01-22T02:10:29.027449Z"
    }
   },
   "outputs": [
    {
     "name": "stderr",
     "output_type": "stream",
     "text": [
      "/var/folders/25/rv77zfh96_101gw8wlvzqhsr0000gn/T/ipykernel_39204/715533696.py:4: DeprecationWarning: Importing display from IPython.core.display is deprecated since IPython 7.14, please import from IPython display\n",
      "  from IPython.core.display import display, HTML\n"
     ]
    }
   ],
   "source": [
    "import  numpy               as np\n",
    "import  emoji\n",
    "import  matplotlib.pyplot   as plt\n",
    "\n",
    "from IPython.core.display import display, HTML"
   ]
  },
  {
   "cell_type": "markdown",
   "source": [
    "## <font size=8> <strong>Importing and processing the emoji's data"
   ],
   "metadata": {
    "id": "OFOUI1Akc1tP"
   }
  },
  {
   "cell_type": "markdown",
   "source": [
    "We will use for this part a python file with a list of all the emoji's of the lib \"emoji\" and their textuel representation"
   ],
   "metadata": {
    "id": "71LJzrmqdZ0h"
   }
  },
  {
   "cell_type": "code",
   "execution_count": 4,
   "metadata": {
    "id": "QFu6RnBSckgH",
    "colab": {
     "base_uri": "https://localhost:8080/",
     "height": 403
    },
    "outputId": "f4ac2542-a408-4dda-8cf9-cd2a9fbb88d6",
    "ExecuteTime": {
     "end_time": "2024-01-22T02:11:11.493051Z",
     "start_time": "2024-01-22T02:11:11.466340Z"
    }
   },
   "outputs": [],
   "source": [
    "from emo_uni import emo_list,emo_get"
   ]
  },
  {
   "cell_type": "code",
   "execution_count": 5,
   "metadata": {
    "id": "cAVcreJsckgH",
    "ExecuteTime": {
     "end_time": "2024-01-22T02:11:13.765790Z",
     "start_time": "2024-01-22T02:11:13.758425Z"
    }
   },
   "outputs": [
    {
     "data": {
      "text/plain": "3414"
     },
     "execution_count": 5,
     "metadata": {},
     "output_type": "execute_result"
    }
   ],
   "source": [
    "len(emo_list)"
   ]
  },
  {
   "cell_type": "code",
   "execution_count": 6,
   "metadata": {
    "id": "DjVGEpkickgJ",
    "ExecuteTime": {
     "end_time": "2024-01-22T02:11:17.713098Z",
     "start_time": "2024-01-22T02:11:17.708444Z"
    }
   },
   "outputs": [
    {
     "data": {
      "text/plain": "['2nd_place_medal',\n '3rd_place_medal',\n 'AB_button_(blood_type)',\n 'ATM_sign',\n 'A_button_(blood_type)',\n 'Afghanistan',\n 'Albania',\n 'Algeria',\n 'American_Samoa']"
     },
     "execution_count": 6,
     "metadata": {},
     "output_type": "execute_result"
    }
   ],
   "source": [
    "#This is how the elements of the list look like\n",
    "emo_list[1:10]"
   ]
  },
  {
   "cell_type": "code",
   "execution_count": 7,
   "metadata": {
    "id": "qLu1oLs8ckgK",
    "ExecuteTime": {
     "end_time": "2024-01-22T02:11:18.922907Z",
     "start_time": "2024-01-22T02:11:18.913582Z"
    }
   },
   "outputs": [
    {
     "data": {
      "text/plain": "['2nd place medal',\n '3rd place medal',\n 'ab button (blood type)',\n 'atm sign',\n 'a button (blood type)',\n 'afghanistan',\n 'albania',\n 'algeria',\n 'american samoa']"
     },
     "execution_count": 7,
     "metadata": {},
     "output_type": "execute_result"
    }
   ],
   "source": [
    "#Processing the emoji's textual representation\n",
    "e_l=[]\n",
    "for i in emo_list:\n",
    "    e_l.append(str(i.replace(\"_\",\" \")).lower())\n",
    "\n",
    "e_l[1:10]"
   ]
  },
  {
   "cell_type": "code",
   "execution_count": 8,
   "metadata": {
    "id": "kTvAP3YYckgL",
    "ExecuteTime": {
     "end_time": "2024-01-22T02:11:20.921856Z",
     "start_time": "2024-01-22T02:11:20.912436Z"
    }
   },
   "outputs": [
    {
     "name": "stdout",
     "output_type": "stream",
     "text": [
      "TATIA is 👍\n"
     ]
    }
   ],
   "source": [
    "#emoji lib demonstration\n",
    "print(emoji.emojize('TATIA is :thumbs_up:'))"
   ]
  },
  {
   "cell_type": "markdown",
   "source": [
    "## <font size=8> <strong> Loading word vectors"
   ],
   "metadata": {
    "id": "2tciAAYamdqT"
   }
  },
  {
   "cell_type": "markdown",
   "source": [
    "We choosed to work with GloVe vectors for it's viability"
   ],
   "metadata": {
    "id": "IG-4BJgO5h5t"
   }
  },
  {
   "cell_type": "code",
   "source": [
    "!pip install spacy tqdm"
   ],
   "metadata": {
    "id": "uNWWpJflpuUh",
    "ExecuteTime": {
     "end_time": "2024-01-22T02:11:29.409011Z",
     "start_time": "2024-01-22T02:11:24.734427Z"
    }
   },
   "execution_count": 9,
   "outputs": [
    {
     "name": "stdout",
     "output_type": "stream",
     "text": [
      "Collecting spacy\r\n",
      "  Using cached spacy-3.7.2-cp311-cp311-macosx_11_0_arm64.whl.metadata (25 kB)\r\n",
      "Collecting tqdm\r\n",
      "  Using cached tqdm-4.66.1-py3-none-any.whl.metadata (57 kB)\r\n",
      "Collecting spacy-legacy<3.1.0,>=3.0.11 (from spacy)\r\n",
      "  Using cached spacy_legacy-3.0.12-py2.py3-none-any.whl (29 kB)\r\n",
      "Collecting spacy-loggers<2.0.0,>=1.0.0 (from spacy)\r\n",
      "  Using cached spacy_loggers-1.0.5-py3-none-any.whl.metadata (23 kB)\r\n",
      "Collecting murmurhash<1.1.0,>=0.28.0 (from spacy)\r\n",
      "  Using cached murmurhash-1.0.10-cp311-cp311-macosx_11_0_arm64.whl.metadata (2.0 kB)\r\n",
      "Collecting cymem<2.1.0,>=2.0.2 (from spacy)\r\n",
      "  Using cached cymem-2.0.8-cp311-cp311-macosx_11_0_arm64.whl.metadata (8.4 kB)\r\n",
      "Collecting preshed<3.1.0,>=3.0.2 (from spacy)\r\n",
      "  Using cached preshed-3.0.9-cp311-cp311-macosx_11_0_arm64.whl.metadata (2.2 kB)\r\n",
      "Collecting thinc<8.3.0,>=8.1.8 (from spacy)\r\n",
      "  Using cached thinc-8.2.2-cp311-cp311-macosx_11_0_arm64.whl.metadata (15 kB)\r\n",
      "Collecting wasabi<1.2.0,>=0.9.1 (from spacy)\r\n",
      "  Using cached wasabi-1.1.2-py3-none-any.whl.metadata (28 kB)\r\n",
      "Collecting srsly<3.0.0,>=2.4.3 (from spacy)\r\n",
      "  Using cached srsly-2.4.8-cp311-cp311-macosx_11_0_arm64.whl.metadata (20 kB)\r\n",
      "Collecting catalogue<2.1.0,>=2.0.6 (from spacy)\r\n",
      "  Using cached catalogue-2.0.10-py3-none-any.whl.metadata (14 kB)\r\n",
      "Collecting weasel<0.4.0,>=0.1.0 (from spacy)\r\n",
      "  Using cached weasel-0.3.4-py3-none-any.whl.metadata (4.7 kB)\r\n",
      "Collecting typer<0.10.0,>=0.3.0 (from spacy)\r\n",
      "  Using cached typer-0.9.0-py3-none-any.whl (45 kB)\r\n",
      "Collecting smart-open<7.0.0,>=5.2.1 (from spacy)\r\n",
      "  Using cached smart_open-6.4.0-py3-none-any.whl.metadata (21 kB)\r\n",
      "Requirement already satisfied: requests<3.0.0,>=2.13.0 in /Users/rafaelbaptista/Documents/M1/TATIA/pip_env/lib/python3.11/site-packages (from spacy) (2.31.0)\r\n",
      "Collecting pydantic!=1.8,!=1.8.1,<3.0.0,>=1.7.4 (from spacy)\r\n",
      "  Using cached pydantic-2.5.3-py3-none-any.whl.metadata (65 kB)\r\n",
      "Requirement already satisfied: jinja2 in /Users/rafaelbaptista/Documents/M1/TATIA/pip_env/lib/python3.11/site-packages (from spacy) (3.1.3)\r\n",
      "Requirement already satisfied: setuptools in /Users/rafaelbaptista/Documents/M1/TATIA/pip_env/lib/python3.11/site-packages (from spacy) (69.0.1)\r\n",
      "Requirement already satisfied: packaging>=20.0 in /Users/rafaelbaptista/Documents/M1/TATIA/pip_env/lib/python3.11/site-packages (from spacy) (23.2)\r\n",
      "Collecting langcodes<4.0.0,>=3.2.0 (from spacy)\r\n",
      "  Using cached langcodes-3.3.0-py3-none-any.whl (181 kB)\r\n",
      "Requirement already satisfied: numpy>=1.19.0 in /Users/rafaelbaptista/Documents/M1/TATIA/pip_env/lib/python3.11/site-packages (from spacy) (1.26.3)\r\n",
      "Collecting annotated-types>=0.4.0 (from pydantic!=1.8,!=1.8.1,<3.0.0,>=1.7.4->spacy)\r\n",
      "  Using cached annotated_types-0.6.0-py3-none-any.whl.metadata (12 kB)\r\n",
      "Collecting pydantic-core==2.14.6 (from pydantic!=1.8,!=1.8.1,<3.0.0,>=1.7.4->spacy)\r\n",
      "  Using cached pydantic_core-2.14.6-cp311-cp311-macosx_11_0_arm64.whl.metadata (6.5 kB)\r\n",
      "Collecting typing-extensions>=4.6.1 (from pydantic!=1.8,!=1.8.1,<3.0.0,>=1.7.4->spacy)\r\n",
      "  Using cached typing_extensions-4.9.0-py3-none-any.whl.metadata (3.0 kB)\r\n",
      "Requirement already satisfied: charset-normalizer<4,>=2 in /Users/rafaelbaptista/Documents/M1/TATIA/pip_env/lib/python3.11/site-packages (from requests<3.0.0,>=2.13.0->spacy) (3.3.2)\r\n",
      "Requirement already satisfied: idna<4,>=2.5 in /Users/rafaelbaptista/Documents/M1/TATIA/pip_env/lib/python3.11/site-packages (from requests<3.0.0,>=2.13.0->spacy) (3.6)\r\n",
      "Requirement already satisfied: urllib3<3,>=1.21.1 in /Users/rafaelbaptista/Documents/M1/TATIA/pip_env/lib/python3.11/site-packages (from requests<3.0.0,>=2.13.0->spacy) (2.1.0)\r\n",
      "Requirement already satisfied: certifi>=2017.4.17 in /Users/rafaelbaptista/Documents/M1/TATIA/pip_env/lib/python3.11/site-packages (from requests<3.0.0,>=2.13.0->spacy) (2023.11.17)\r\n",
      "Collecting blis<0.8.0,>=0.7.8 (from thinc<8.3.0,>=8.1.8->spacy)\r\n",
      "  Using cached blis-0.7.11-cp311-cp311-macosx_11_0_arm64.whl.metadata (7.4 kB)\r\n",
      "Collecting confection<1.0.0,>=0.0.1 (from thinc<8.3.0,>=8.1.8->spacy)\r\n",
      "  Using cached confection-0.1.4-py3-none-any.whl.metadata (19 kB)\r\n",
      "Collecting click<9.0.0,>=7.1.1 (from typer<0.10.0,>=0.3.0->spacy)\r\n",
      "  Using cached click-8.1.7-py3-none-any.whl.metadata (3.0 kB)\r\n",
      "Collecting cloudpathlib<0.17.0,>=0.7.0 (from weasel<0.4.0,>=0.1.0->spacy)\r\n",
      "  Using cached cloudpathlib-0.16.0-py3-none-any.whl.metadata (14 kB)\r\n",
      "Requirement already satisfied: MarkupSafe>=2.0 in /Users/rafaelbaptista/Documents/M1/TATIA/pip_env/lib/python3.11/site-packages (from jinja2->spacy) (2.1.4)\r\n",
      "Using cached spacy-3.7.2-cp311-cp311-macosx_11_0_arm64.whl (6.5 MB)\r\n",
      "Using cached tqdm-4.66.1-py3-none-any.whl (78 kB)\r\n",
      "Using cached catalogue-2.0.10-py3-none-any.whl (17 kB)\r\n",
      "Using cached cymem-2.0.8-cp311-cp311-macosx_11_0_arm64.whl (41 kB)\r\n",
      "Using cached murmurhash-1.0.10-cp311-cp311-macosx_11_0_arm64.whl (26 kB)\r\n",
      "Using cached preshed-3.0.9-cp311-cp311-macosx_11_0_arm64.whl (128 kB)\r\n",
      "Using cached pydantic-2.5.3-py3-none-any.whl (381 kB)\r\n",
      "Using cached pydantic_core-2.14.6-cp311-cp311-macosx_11_0_arm64.whl (1.7 MB)\r\n",
      "Using cached smart_open-6.4.0-py3-none-any.whl (57 kB)\r\n",
      "Using cached spacy_loggers-1.0.5-py3-none-any.whl (22 kB)\r\n",
      "Using cached srsly-2.4.8-cp311-cp311-macosx_11_0_arm64.whl (488 kB)\r\n",
      "Using cached thinc-8.2.2-cp311-cp311-macosx_11_0_arm64.whl (778 kB)\r\n",
      "Using cached wasabi-1.1.2-py3-none-any.whl (27 kB)\r\n",
      "Using cached weasel-0.3.4-py3-none-any.whl (50 kB)\r\n",
      "Using cached annotated_types-0.6.0-py3-none-any.whl (12 kB)\r\n",
      "Using cached blis-0.7.11-cp311-cp311-macosx_11_0_arm64.whl (1.1 MB)\r\n",
      "Using cached click-8.1.7-py3-none-any.whl (97 kB)\r\n",
      "Using cached cloudpathlib-0.16.0-py3-none-any.whl (45 kB)\r\n",
      "Using cached confection-0.1.4-py3-none-any.whl (35 kB)\r\n",
      "Using cached typing_extensions-4.9.0-py3-none-any.whl (32 kB)\r\n",
      "Installing collected packages: cymem, wasabi, typing-extensions, tqdm, spacy-loggers, spacy-legacy, smart-open, murmurhash, langcodes, cloudpathlib, click, catalogue, blis, annotated-types, typer, srsly, pydantic-core, preshed, pydantic, confection, weasel, thinc, spacy\r\n",
      "Successfully installed annotated-types-0.6.0 blis-0.7.11 catalogue-2.0.10 click-8.1.7 cloudpathlib-0.16.0 confection-0.1.4 cymem-2.0.8 langcodes-3.3.0 murmurhash-1.0.10 preshed-3.0.9 pydantic-2.5.3 pydantic-core-2.14.6 smart-open-6.4.0 spacy-3.7.2 spacy-legacy-3.0.12 spacy-loggers-1.0.5 srsly-2.4.8 thinc-8.2.2 tqdm-4.66.1 typer-0.9.0 typing-extensions-4.9.0 wasabi-1.1.2 weasel-0.3.4\r\n",
      "\r\n",
      "\u001B[1m[\u001B[0m\u001B[34;49mnotice\u001B[0m\u001B[1;39;49m]\u001B[0m\u001B[39;49m A new release of pip is available: \u001B[0m\u001B[31;49m23.3.1\u001B[0m\u001B[39;49m -> \u001B[0m\u001B[32;49m23.3.2\u001B[0m\r\n",
      "\u001B[1m[\u001B[0m\u001B[34;49mnotice\u001B[0m\u001B[1;39;49m]\u001B[0m\u001B[39;49m To update, run: \u001B[0m\u001B[32;49mpip install --upgrade pip\u001B[0m\r\n"
     ]
    }
   ]
  },
  {
   "cell_type": "code",
   "source": [
    "!python -m spacy download en_core_web_sm\n",
    "import spacy\n",
    "\n",
    "nlp = spacy.load('en_core_web_sm')"
   ],
   "metadata": {
    "id": "oJdn-ByjuRc_",
    "ExecuteTime": {
     "end_time": "2024-01-22T02:11:53.805330Z",
     "start_time": "2024-01-22T02:11:43.439683Z"
    }
   },
   "execution_count": 11,
   "outputs": [
    {
     "name": "stdout",
     "output_type": "stream",
     "text": [
      "Collecting en-core-web-sm==3.7.1\r\n",
      "  Downloading https://github.com/explosion/spacy-models/releases/download/en_core_web_sm-3.7.1/en_core_web_sm-3.7.1-py3-none-any.whl (12.8 MB)\r\n",
      "\u001B[2K     \u001B[90m━━━━━━━━━━━━━━━━━━━━━━━━━━━━━━━━━━━━━━━━\u001B[0m \u001B[32m12.8/12.8 MB\u001B[0m \u001B[31m20.8 MB/s\u001B[0m eta \u001B[36m0:00:00\u001B[0m00:01\u001B[0m00:01\u001B[0m\r\n",
      "\u001B[?25hRequirement already satisfied: spacy<3.8.0,>=3.7.2 in /Users/rafaelbaptista/Documents/M1/TATIA/pip_env/lib/python3.11/site-packages (from en-core-web-sm==3.7.1) (3.7.2)\r\n",
      "Requirement already satisfied: spacy-legacy<3.1.0,>=3.0.11 in /Users/rafaelbaptista/Documents/M1/TATIA/pip_env/lib/python3.11/site-packages (from spacy<3.8.0,>=3.7.2->en-core-web-sm==3.7.1) (3.0.12)\r\n",
      "Requirement already satisfied: spacy-loggers<2.0.0,>=1.0.0 in /Users/rafaelbaptista/Documents/M1/TATIA/pip_env/lib/python3.11/site-packages (from spacy<3.8.0,>=3.7.2->en-core-web-sm==3.7.1) (1.0.5)\r\n",
      "Requirement already satisfied: murmurhash<1.1.0,>=0.28.0 in /Users/rafaelbaptista/Documents/M1/TATIA/pip_env/lib/python3.11/site-packages (from spacy<3.8.0,>=3.7.2->en-core-web-sm==3.7.1) (1.0.10)\r\n",
      "Requirement already satisfied: cymem<2.1.0,>=2.0.2 in /Users/rafaelbaptista/Documents/M1/TATIA/pip_env/lib/python3.11/site-packages (from spacy<3.8.0,>=3.7.2->en-core-web-sm==3.7.1) (2.0.8)\r\n",
      "Requirement already satisfied: preshed<3.1.0,>=3.0.2 in /Users/rafaelbaptista/Documents/M1/TATIA/pip_env/lib/python3.11/site-packages (from spacy<3.8.0,>=3.7.2->en-core-web-sm==3.7.1) (3.0.9)\r\n",
      "Requirement already satisfied: thinc<8.3.0,>=8.1.8 in /Users/rafaelbaptista/Documents/M1/TATIA/pip_env/lib/python3.11/site-packages (from spacy<3.8.0,>=3.7.2->en-core-web-sm==3.7.1) (8.2.2)\r\n",
      "Requirement already satisfied: wasabi<1.2.0,>=0.9.1 in /Users/rafaelbaptista/Documents/M1/TATIA/pip_env/lib/python3.11/site-packages (from spacy<3.8.0,>=3.7.2->en-core-web-sm==3.7.1) (1.1.2)\r\n",
      "Requirement already satisfied: srsly<3.0.0,>=2.4.3 in /Users/rafaelbaptista/Documents/M1/TATIA/pip_env/lib/python3.11/site-packages (from spacy<3.8.0,>=3.7.2->en-core-web-sm==3.7.1) (2.4.8)\r\n",
      "Requirement already satisfied: catalogue<2.1.0,>=2.0.6 in /Users/rafaelbaptista/Documents/M1/TATIA/pip_env/lib/python3.11/site-packages (from spacy<3.8.0,>=3.7.2->en-core-web-sm==3.7.1) (2.0.10)\r\n",
      "Requirement already satisfied: weasel<0.4.0,>=0.1.0 in /Users/rafaelbaptista/Documents/M1/TATIA/pip_env/lib/python3.11/site-packages (from spacy<3.8.0,>=3.7.2->en-core-web-sm==3.7.1) (0.3.4)\r\n",
      "Requirement already satisfied: typer<0.10.0,>=0.3.0 in /Users/rafaelbaptista/Documents/M1/TATIA/pip_env/lib/python3.11/site-packages (from spacy<3.8.0,>=3.7.2->en-core-web-sm==3.7.1) (0.9.0)\r\n",
      "Requirement already satisfied: smart-open<7.0.0,>=5.2.1 in /Users/rafaelbaptista/Documents/M1/TATIA/pip_env/lib/python3.11/site-packages (from spacy<3.8.0,>=3.7.2->en-core-web-sm==3.7.1) (6.4.0)\r\n",
      "Requirement already satisfied: tqdm<5.0.0,>=4.38.0 in /Users/rafaelbaptista/Documents/M1/TATIA/pip_env/lib/python3.11/site-packages (from spacy<3.8.0,>=3.7.2->en-core-web-sm==3.7.1) (4.66.1)\r\n",
      "Requirement already satisfied: requests<3.0.0,>=2.13.0 in /Users/rafaelbaptista/Documents/M1/TATIA/pip_env/lib/python3.11/site-packages (from spacy<3.8.0,>=3.7.2->en-core-web-sm==3.7.1) (2.31.0)\r\n",
      "Requirement already satisfied: pydantic!=1.8,!=1.8.1,<3.0.0,>=1.7.4 in /Users/rafaelbaptista/Documents/M1/TATIA/pip_env/lib/python3.11/site-packages (from spacy<3.8.0,>=3.7.2->en-core-web-sm==3.7.1) (2.5.3)\r\n",
      "Requirement already satisfied: jinja2 in /Users/rafaelbaptista/Documents/M1/TATIA/pip_env/lib/python3.11/site-packages (from spacy<3.8.0,>=3.7.2->en-core-web-sm==3.7.1) (3.1.3)\r\n",
      "Requirement already satisfied: setuptools in /Users/rafaelbaptista/Documents/M1/TATIA/pip_env/lib/python3.11/site-packages (from spacy<3.8.0,>=3.7.2->en-core-web-sm==3.7.1) (69.0.1)\r\n",
      "Requirement already satisfied: packaging>=20.0 in /Users/rafaelbaptista/Documents/M1/TATIA/pip_env/lib/python3.11/site-packages (from spacy<3.8.0,>=3.7.2->en-core-web-sm==3.7.1) (23.2)\r\n",
      "Requirement already satisfied: langcodes<4.0.0,>=3.2.0 in /Users/rafaelbaptista/Documents/M1/TATIA/pip_env/lib/python3.11/site-packages (from spacy<3.8.0,>=3.7.2->en-core-web-sm==3.7.1) (3.3.0)\r\n",
      "Requirement already satisfied: numpy>=1.19.0 in /Users/rafaelbaptista/Documents/M1/TATIA/pip_env/lib/python3.11/site-packages (from spacy<3.8.0,>=3.7.2->en-core-web-sm==3.7.1) (1.26.3)\r\n",
      "Requirement already satisfied: annotated-types>=0.4.0 in /Users/rafaelbaptista/Documents/M1/TATIA/pip_env/lib/python3.11/site-packages (from pydantic!=1.8,!=1.8.1,<3.0.0,>=1.7.4->spacy<3.8.0,>=3.7.2->en-core-web-sm==3.7.1) (0.6.0)\r\n",
      "Requirement already satisfied: pydantic-core==2.14.6 in /Users/rafaelbaptista/Documents/M1/TATIA/pip_env/lib/python3.11/site-packages (from pydantic!=1.8,!=1.8.1,<3.0.0,>=1.7.4->spacy<3.8.0,>=3.7.2->en-core-web-sm==3.7.1) (2.14.6)\r\n",
      "Requirement already satisfied: typing-extensions>=4.6.1 in /Users/rafaelbaptista/Documents/M1/TATIA/pip_env/lib/python3.11/site-packages (from pydantic!=1.8,!=1.8.1,<3.0.0,>=1.7.4->spacy<3.8.0,>=3.7.2->en-core-web-sm==3.7.1) (4.9.0)\r\n",
      "Requirement already satisfied: charset-normalizer<4,>=2 in /Users/rafaelbaptista/Documents/M1/TATIA/pip_env/lib/python3.11/site-packages (from requests<3.0.0,>=2.13.0->spacy<3.8.0,>=3.7.2->en-core-web-sm==3.7.1) (3.3.2)\r\n",
      "Requirement already satisfied: idna<4,>=2.5 in /Users/rafaelbaptista/Documents/M1/TATIA/pip_env/lib/python3.11/site-packages (from requests<3.0.0,>=2.13.0->spacy<3.8.0,>=3.7.2->en-core-web-sm==3.7.1) (3.6)\r\n",
      "Requirement already satisfied: urllib3<3,>=1.21.1 in /Users/rafaelbaptista/Documents/M1/TATIA/pip_env/lib/python3.11/site-packages (from requests<3.0.0,>=2.13.0->spacy<3.8.0,>=3.7.2->en-core-web-sm==3.7.1) (2.1.0)\r\n",
      "Requirement already satisfied: certifi>=2017.4.17 in /Users/rafaelbaptista/Documents/M1/TATIA/pip_env/lib/python3.11/site-packages (from requests<3.0.0,>=2.13.0->spacy<3.8.0,>=3.7.2->en-core-web-sm==3.7.1) (2023.11.17)\r\n",
      "Requirement already satisfied: blis<0.8.0,>=0.7.8 in /Users/rafaelbaptista/Documents/M1/TATIA/pip_env/lib/python3.11/site-packages (from thinc<8.3.0,>=8.1.8->spacy<3.8.0,>=3.7.2->en-core-web-sm==3.7.1) (0.7.11)\r\n",
      "Requirement already satisfied: confection<1.0.0,>=0.0.1 in /Users/rafaelbaptista/Documents/M1/TATIA/pip_env/lib/python3.11/site-packages (from thinc<8.3.0,>=8.1.8->spacy<3.8.0,>=3.7.2->en-core-web-sm==3.7.1) (0.1.4)\r\n",
      "Requirement already satisfied: click<9.0.0,>=7.1.1 in /Users/rafaelbaptista/Documents/M1/TATIA/pip_env/lib/python3.11/site-packages (from typer<0.10.0,>=0.3.0->spacy<3.8.0,>=3.7.2->en-core-web-sm==3.7.1) (8.1.7)\r\n",
      "Requirement already satisfied: cloudpathlib<0.17.0,>=0.7.0 in /Users/rafaelbaptista/Documents/M1/TATIA/pip_env/lib/python3.11/site-packages (from weasel<0.4.0,>=0.1.0->spacy<3.8.0,>=3.7.2->en-core-web-sm==3.7.1) (0.16.0)\r\n",
      "Requirement already satisfied: MarkupSafe>=2.0 in /Users/rafaelbaptista/Documents/M1/TATIA/pip_env/lib/python3.11/site-packages (from jinja2->spacy<3.8.0,>=3.7.2->en-core-web-sm==3.7.1) (2.1.4)\r\n",
      "Installing collected packages: en-core-web-sm\r\n",
      "Successfully installed en-core-web-sm-3.7.1\r\n",
      "\r\n",
      "\u001B[1m[\u001B[0m\u001B[34;49mnotice\u001B[0m\u001B[1;39;49m]\u001B[0m\u001B[39;49m A new release of pip is available: \u001B[0m\u001B[31;49m23.3.1\u001B[0m\u001B[39;49m -> \u001B[0m\u001B[32;49m23.3.2\u001B[0m\r\n",
      "\u001B[1m[\u001B[0m\u001B[34;49mnotice\u001B[0m\u001B[1;39;49m]\u001B[0m\u001B[39;49m To update, run: \u001B[0m\u001B[32;49mpip install --upgrade pip\u001B[0m\r\n",
      "\u001B[38;5;2m✔ Download and installation successful\u001B[0m\r\n",
      "You can now load the package via spacy.load('en_core_web_sm')\r\n"
     ]
    }
   ]
  },
  {
   "cell_type": "markdown",
   "source": [
    "## <font size=8> <strong> Importing GloVe Vectors into spaCy and Generating Emoji Vectors"
   ],
   "metadata": {
    "id": "Fe9eALZv5R5l"
   }
  },
  {
   "cell_type": "code",
   "execution_count": 13,
   "metadata": {
    "id": "lovIW3UickgL",
    "ExecuteTime": {
     "end_time": "2024-01-22T02:12:08.334022Z",
     "start_time": "2024-01-22T02:12:08.322809Z"
    }
   },
   "outputs": [],
   "source": [
    "from tqdm import tqdm"
   ]
  },
  {
   "cell_type": "code",
   "execution_count": 14,
   "metadata": {
    "id": "5jahF3ftckgL",
    "ExecuteTime": {
     "end_time": "2024-01-22T02:12:41.682679Z",
     "start_time": "2024-01-22T02:12:23.478912Z"
    }
   },
   "outputs": [
    {
     "name": "stderr",
     "output_type": "stream",
     "text": [
      "100%|██████████| 400000/400000 [00:18<00:00, 21998.22it/s]\n"
     ]
    }
   ],
   "source": [
    "#The models use 300d Glove vectors trained on the Wikipedia corpus as word embeddings.\n",
    "with open('glove.6B.300d.txt', 'r', encoding='utf-8') as f:\n",
    "    for line in tqdm(f, total=400000):\n",
    "        parts = line.split()\n",
    "        word = parts[0]\n",
    "        vec = np.array([float(v) for v in parts[1:]], dtype='f')\n",
    "        nlp.vocab.set_vector(word, vec)"
   ]
  },
  {
   "cell_type": "code",
   "execution_count": 15,
   "metadata": {
    "id": "j981Je2XckgM",
    "ExecuteTime": {
     "end_time": "2024-01-22T02:12:59.170604Z",
     "start_time": "2024-01-22T02:12:51.014836Z"
    }
   },
   "outputs": [],
   "source": [
    "doc_vectors = np.array([nlp(emoji).vector for emoji in e_l])"
   ]
  },
  {
   "cell_type": "markdown",
   "source": [
    "## <font size=8> <strong> Calculating Cosine Similarity and Displaying Most Similar Emojis for Random Sentences"
   ],
   "metadata": {
    "id": "LIRyrefk6p8m"
   }
  },
  {
   "cell_type": "code",
   "execution_count": 16,
   "metadata": {
    "id": "zIF_paneckgM",
    "ExecuteTime": {
     "end_time": "2024-01-22T02:13:02.491102Z",
     "start_time": "2024-01-22T02:13:02.488090Z"
    }
   },
   "outputs": [],
   "source": [
    "from numpy import dot\n",
    "from numpy.linalg import norm"
   ]
  },
  {
   "cell_type": "markdown",
   "source": [
    "For better results, we will vectorize the cosine similarity"
   ],
   "metadata": {
    "id": "B3lRfbguTVkR",
    "ExecuteTime": {
     "end_time": "2024-01-22T00:28:27.352538Z",
     "start_time": "2024-01-22T00:28:27.346689Z"
    }
   }
  },
  {
   "cell_type": "code",
   "execution_count": 17,
   "metadata": {
    "id": "oAD7ANJgckgN",
    "ExecuteTime": {
     "end_time": "2024-01-22T02:13:04.096788Z",
     "start_time": "2024-01-22T02:13:04.013245Z"
    }
   },
   "outputs": [],
   "source": [
    "def most_similar(vectors, vec):\n",
    "    cosine = lambda v1, v2: dot(v1, v2) / (norm(v1) * norm(v2))\n",
    "    dst = np.dot(vectors, vec) / (norm(vectors) * norm(vec))\n",
    "    return (np.argsort(-dst))[0],max(dst)"
   ]
  },
  {
   "cell_type": "code",
   "execution_count": 20,
   "metadata": {
    "id": "DpqyVFsQckgN",
    "ExecuteTime": {
     "end_time": "2024-01-22T02:14:04.949705Z",
     "start_time": "2024-01-22T02:14:04.942261Z"
    }
   },
   "outputs": [],
   "source": [
    "sentences = [\n",
    "    \"love hearts apple\",\n",
    "    \"Sunny weather today\",\n",
    "    \"Happy birthday celebration\",\n",
    "    \"Delicious food served\",\n",
    "    \"Running fast wind\",\n",
    "    \"Sleeping cat quietly\",\n",
    "    \"Coffee morning routine\",\n",
    "    \"Books stack library\",\n",
    "    \"Music brings joy\",\n",
    "    \"Travel world adventure\",\n",
    "    \"The cat is sleeping.\",\n",
    "    \"She is reading a book.\",\n",
    "    \"The sun is shining.\",\n",
    "    \"He is writing a letter.\",\n",
    "    \"The dog is barking.\",\n",
    "    \"They are playing soccer.\",\n",
    "    \"I am eating an apple.\",\n",
    "    \"She is drinking water.\",\n",
    "    \"The baby is crying.\",\n",
    "    \"We are watching a movie.\",\n",
    "    \"The birds are singing.\",\n",
    "    \"He is running fast.\",\n",
    "    \"The door is closed.\",\n",
    "    \"She is cooking dinner.\",\n",
    "    \"The phone is ringing.\",\n",
    "    \"They are dancing together.\",\n",
    "    \"I am learning English.\",\n",
    "    \"The car is moving.\",\n",
    "    \"She is wearing a dress.\",\n",
    "    \"The flowers are blooming.\",\n",
    "    \"He is swimming in the pool.\",\n",
    "    \"They are riding bicycles.\",\n",
    "    \"I am drawing a picture.\",\n",
    "    \"The train is arriving.\",\n",
    "    \"She is playing the piano.\",\n",
    "    \"The glass is full.\",\n",
    "    \"He is driving a car.\",\n",
    "    \"They are speaking French.\",\n",
    "    \"I am taking a bath.\",\n",
    "    \"The moon is bright.\",\n",
    "    \"She is tying her shoes.\",\n",
    "    \"The clock is ticking.\",\n",
    "    \"He is climbing a tree.\",\n",
    "    \"They are making a cake.\",\n",
    "    \"I am writing an email.\",\n",
    "    \"The river is flowing.\",\n",
    "    \"She is jumping rope.\",\n",
    "    \"The window is open.\",\n",
    "    \"He is fixing the bike.\",\n",
    "    \"They are planting flowers.\",\n",
    "    \"I am brushing my teeth.\",\n",
    "    \"The stars are twinkling.\",\n",
    "    \"She is feeding the cat.\",\n",
    "    \"The light is on.\",\n",
    "    \"He is cutting the grass.\",\n",
    "    \"They are building a sandcastle.\",\n",
    "    \"I am listening to music.\",\n",
    "    \"The leaves are falling.\",\n",
    "    \"She is washing the dishes.\",\n",
    "    \"The book is on the table.\",\n",
    "    \"He is painting a picture.\",\n",
    "    \"They are studying math.\",\n",
    "    \"I am making a sandwich.\",\n",
    "    \"The snow is melting.\",\n",
    "    \"She is ironing clothes.\",\n",
    "    \"The bus is late.\",\n",
    "    \"He is tying a tie.\",\n",
    "    \"They are playing chess.\",\n",
    "    \"I am riding a horse.\",\n",
    "    \"The kettle is boiling.\",\n",
    "    \"She is cleaning the room.\",\n",
    "    \"The baby is sleeping.\",\n",
    "    \"He is peeling an orange.\",\n",
    "    \"They are hiking in the woods.\",\n",
    "    \"I am shopping for groceries.\",\n",
    "    \"The bird is flying.\",\n",
    "    \"She is playing guitar.\",\n",
    "    \"The bell is ringing.\",\n",
    "    \"He is baking bread.\",\n",
    "    \"They are watching the sunrise.\",\n",
    "    \"I am watering the plants.\",\n",
    "    \"The fish are swimming.\",\n",
    "    \"She is taking a selfie.\",\n",
    "    \"The alarm is sounding.\",\n",
    "    \"He is playing basketball.\",\n",
    "    \"They are visiting a museum.\",\n",
    "    \"I am reading a magazine.\",\n",
    "    \"The cat is purring.\"\n",
    "]"
   ]
  },
  {
   "cell_type": "code",
   "execution_count": 21,
   "outputs": [
    {
     "data": {
      "text/plain": "['love hearts apple',\n 'Sunny weather today',\n 'Happy birthday celebration',\n 'Delicious food served',\n 'Running fast wind',\n 'Sleeping cat quietly',\n 'Coffee morning routine',\n 'Books stack library',\n 'Music brings joy',\n 'Travel world adventure',\n 'The cat sleeping.',\n 'She reading book.',\n 'The sun shining.',\n 'He writing letter.',\n 'The dog barking.',\n 'They playing soccer.',\n 'I eating apple.',\n 'She drinking water.',\n 'The baby crying.',\n 'We watching movie.',\n 'The birds singing.',\n 'He running fast.',\n 'The door closed.',\n 'She cooking dinner.',\n 'The phone ringing.',\n 'They dancing together.',\n 'I learning English.',\n 'The car moving.',\n 'She wearing dress.',\n 'The flowers blooming.',\n 'He swimming in the pool.',\n 'They riding bicycles.',\n 'I drawing picture.',\n 'The train arriving.',\n 'She playing the piano.',\n 'The glass full.',\n 'He driving car.',\n 'They speaking French.',\n 'I taking bath.',\n 'The moon bright.',\n 'She tying her shoes.',\n 'The clock ticking.',\n 'He climbing tree.',\n 'They making cake.',\n 'I writing email.',\n 'The river flowing.',\n 'She jumping rope.',\n 'The window open.',\n 'He fixing the bike.',\n 'They planting flowers.',\n 'I brushing my teeth.',\n 'The stars twinkling.',\n 'She feeding the cat.',\n 'The light on.',\n 'He cutting the grass.',\n 'They building sandcastle.',\n 'I listening to music.',\n 'The leaves falling.',\n 'She washing the dishes.',\n 'The book on the table.',\n 'He painting picture.',\n 'They studying math.',\n 'I making sandwich.',\n 'The snow melting.',\n 'She ironing clothes.',\n 'The bus late.',\n 'He tying tie.',\n 'They playing chess.',\n 'I riding horse.',\n 'The kettle boiling.',\n 'She cleaning the room.',\n 'The baby sleeping.',\n 'He peeling orange.',\n 'They hiking in the woods.',\n 'I shopping for groceries.',\n 'The bird flying.',\n 'She playing guitar.',\n 'The bell ringing.',\n 'He baking bread.',\n 'They watching the sunrise.',\n 'I watering the plants.',\n 'The fish swimming.',\n 'She taking selfie.',\n 'The alarm sounding.',\n 'He playing basketball.',\n 'They visiting museum.',\n 'I reading magazine.',\n 'The cat purring.']"
     },
     "execution_count": 21,
     "metadata": {},
     "output_type": "execute_result"
    }
   ],
   "source": [
    "# -------------------------------------------------------------------------------------------------------- #\n",
    "# For each sentence, look up for to-be verbs or articles and replace them with a space                     #\n",
    "# -------------------------------------------------------------------------------------------------------- #\n",
    "# After testing, we found that the most similar emojis are found when the sentence is simplified.          # \n",
    "# So we will remove the to-be verbs and articles from each sentence.                                       #\n",
    "#--------------------------------------------------------------------------------------------------------- #\n",
    "\n",
    "words_to_replace = [\" are \", \" is \", \" am \", \" a \", \" an \"]              # Words to be replaced with a space\n",
    "\n",
    "updated_sentences = [sentence for sentence in sentences]    # Replacing the specified words in each sentence\n",
    "\n",
    "for i, sentence in enumerate(updated_sentences):                             # Looping through each sentence\n",
    "    for word in words_to_replace:\n",
    "        sentence = sentence.replace(word, \" \")\n",
    "    updated_sentences[i] = sentence\n",
    "\n",
    "updated_sentences                                                         # Displaying the updated sentences\n",
    " "
   ],
   "metadata": {
    "collapsed": false,
    "ExecuteTime": {
     "end_time": "2024-01-22T02:14:05.720076Z",
     "start_time": "2024-01-22T02:14:05.711175Z"
    }
   }
  },
  {
   "cell_type": "code",
   "execution_count": 23,
   "outputs": [
    {
     "name": "stdout",
     "output_type": "stream",
     "text": [
      "love hearts apple\n"
     ]
    },
    {
     "data": {
      "text/plain": "<IPython.core.display.HTML object>",
      "text/html": "<font size=\"+2\">💌 ♥️ 🍎</font>"
     },
     "metadata": {},
     "output_type": "display_data"
    },
    {
     "name": "stdout",
     "output_type": "stream",
     "text": [
      "Sunny weather today\n"
     ]
    },
    {
     "data": {
      "text/plain": "<IPython.core.display.HTML object>",
      "text/html": "<font size=\"+2\">☀️</font>"
     },
     "metadata": {},
     "output_type": "display_data"
    },
    {
     "name": "stdout",
     "output_type": "stream",
     "text": [
      "Happy birthday celebration\n"
     ]
    },
    {
     "data": {
      "text/plain": "<IPython.core.display.HTML object>",
      "text/html": "<font size=\"+2\">🎂 🎂</font>"
     },
     "metadata": {},
     "output_type": "display_data"
    },
    {
     "name": "stdout",
     "output_type": "stream",
     "text": [
      "Delicious food served\n"
     ]
    },
    {
     "data": {
      "text/plain": "<IPython.core.display.HTML object>",
      "text/html": "<font size=\"+2\">🍠 🥫</font>"
     },
     "metadata": {},
     "output_type": "display_data"
    },
    {
     "name": "stdout",
     "output_type": "stream",
     "text": [
      "Running fast wind\n"
     ]
    },
    {
     "data": {
      "text/plain": "<IPython.core.display.HTML object>",
      "text/html": "<font size=\"+2\">🏃 ⏩ 🎐</font>"
     },
     "metadata": {},
     "output_type": "display_data"
    },
    {
     "name": "stdout",
     "output_type": "stream",
     "text": [
      "Sleeping cat quietly\n"
     ]
    },
    {
     "data": {
      "text/plain": "<IPython.core.display.HTML object>",
      "text/html": "<font size=\"+2\">😴 🐱</font>"
     },
     "metadata": {},
     "output_type": "display_data"
    },
    {
     "name": "stdout",
     "output_type": "stream",
     "text": [
      "Coffee morning routine\n"
     ]
    },
    {
     "data": {
      "text/plain": "<IPython.core.display.HTML object>",
      "text/html": "<font size=\"+2\">☕</font>"
     },
     "metadata": {},
     "output_type": "display_data"
    },
    {
     "name": "stdout",
     "output_type": "stream",
     "text": [
      "Books stack library\n"
     ]
    },
    {
     "data": {
      "text/plain": "<IPython.core.display.HTML object>",
      "text/html": "<font size=\"+2\">📚 📚</font>"
     },
     "metadata": {},
     "output_type": "display_data"
    },
    {
     "name": "stdout",
     "output_type": "stream",
     "text": [
      "Music brings joy\n"
     ]
    },
    {
     "data": {
      "text/plain": "<IPython.core.display.HTML object>",
      "text/html": "<font size=\"+2\">🎸 😂</font>"
     },
     "metadata": {},
     "output_type": "display_data"
    },
    {
     "name": "stdout",
     "output_type": "stream",
     "text": [
      "Travel world adventure\n"
     ]
    },
    {
     "data": {
      "text/plain": "<IPython.core.display.HTML object>",
      "text/html": "<font size=\"+2\">🗺️</font>"
     },
     "metadata": {},
     "output_type": "display_data"
    },
    {
     "name": "stdout",
     "output_type": "stream",
     "text": [
      "The cat sleeping.\n"
     ]
    },
    {
     "data": {
      "text/plain": "<IPython.core.display.HTML object>",
      "text/html": "<font size=\"+2\">🐱 😴</font>"
     },
     "metadata": {},
     "output_type": "display_data"
    },
    {
     "name": "stdout",
     "output_type": "stream",
     "text": [
      "She reading book.\n"
     ]
    },
    {
     "data": {
      "text/plain": "<IPython.core.display.HTML object>",
      "text/html": "<font size=\"+2\">👩 📖</font>"
     },
     "metadata": {},
     "output_type": "display_data"
    },
    {
     "name": "stdout",
     "output_type": "stream",
     "text": [
      "The sun shining.\n"
     ]
    },
    {
     "data": {
      "text/plain": "<IPython.core.display.HTML object>",
      "text/html": "<font size=\"+2\">☀️</font>"
     },
     "metadata": {},
     "output_type": "display_data"
    },
    {
     "name": "stdout",
     "output_type": "stream",
     "text": [
      "He writing letter.\n"
     ]
    },
    {
     "data": {
      "text/plain": "<IPython.core.display.HTML object>",
      "text/html": "<font size=\"+2\">👨 📚 💌</font>"
     },
     "metadata": {},
     "output_type": "display_data"
    },
    {
     "name": "stdout",
     "output_type": "stream",
     "text": [
      "The dog barking.\n"
     ]
    },
    {
     "data": {
      "text/plain": "<IPython.core.display.HTML object>",
      "text/html": "<font size=\"+2\">🐶 🐶</font>"
     },
     "metadata": {},
     "output_type": "display_data"
    },
    {
     "name": "stdout",
     "output_type": "stream",
     "text": [
      "They playing soccer.\n"
     ]
    },
    {
     "data": {
      "text/plain": "<IPython.core.display.HTML object>",
      "text/html": "<font size=\"+2\">🙅 🏈 ⚽</font>"
     },
     "metadata": {},
     "output_type": "display_data"
    },
    {
     "name": "stdout",
     "output_type": "stream",
     "text": [
      "I eating apple.\n"
     ]
    },
    {
     "data": {
      "text/plain": "<IPython.core.display.HTML object>",
      "text/html": "<font size=\"+2\">🆔 🐟 🍎</font>"
     },
     "metadata": {},
     "output_type": "display_data"
    },
    {
     "name": "stdout",
     "output_type": "stream",
     "text": [
      "She drinking water.\n"
     ]
    },
    {
     "data": {
      "text/plain": "<IPython.core.display.HTML object>",
      "text/html": "<font size=\"+2\">👩 🍺 🚰</font>"
     },
     "metadata": {},
     "output_type": "display_data"
    },
    {
     "name": "stdout",
     "output_type": "stream",
     "text": [
      "The baby crying.\n"
     ]
    },
    {
     "data": {
      "text/plain": "<IPython.core.display.HTML object>",
      "text/html": "<font size=\"+2\">👶 😢</font>"
     },
     "metadata": {},
     "output_type": "display_data"
    },
    {
     "name": "stdout",
     "output_type": "stream",
     "text": [
      "We watching movie.\n"
     ]
    },
    {
     "data": {
      "text/plain": "<IPython.core.display.HTML object>",
      "text/html": "<font size=\"+2\">🙅 ⌚ 🎥</font>"
     },
     "metadata": {},
     "output_type": "display_data"
    },
    {
     "name": "stdout",
     "output_type": "stream",
     "text": [
      "The birds singing.\n"
     ]
    },
    {
     "data": {
      "text/plain": "<IPython.core.display.HTML object>",
      "text/html": "<font size=\"+2\">🐦 🎸</font>"
     },
     "metadata": {},
     "output_type": "display_data"
    },
    {
     "name": "stdout",
     "output_type": "stream",
     "text": [
      "He running fast.\n"
     ]
    },
    {
     "data": {
      "text/plain": "<IPython.core.display.HTML object>",
      "text/html": "<font size=\"+2\">👨 🏃 ⏩</font>"
     },
     "metadata": {},
     "output_type": "display_data"
    },
    {
     "name": "stdout",
     "output_type": "stream",
     "text": [
      "The door closed.\n"
     ]
    },
    {
     "data": {
      "text/plain": "<IPython.core.display.HTML object>",
      "text/html": "<font size=\"+2\">🚪 📕</font>"
     },
     "metadata": {},
     "output_type": "display_data"
    },
    {
     "name": "stdout",
     "output_type": "stream",
     "text": [
      "She cooking dinner.\n"
     ]
    },
    {
     "data": {
      "text/plain": "<IPython.core.display.HTML object>",
      "text/html": "<font size=\"+2\">👩 🍳 💒</font>"
     },
     "metadata": {},
     "output_type": "display_data"
    },
    {
     "name": "stdout",
     "output_type": "stream",
     "text": [
      "The phone ringing.\n"
     ]
    },
    {
     "data": {
      "text/plain": "<IPython.core.display.HTML object>",
      "text/html": "<font size=\"+2\">☎️ ☎️</font>"
     },
     "metadata": {},
     "output_type": "display_data"
    },
    {
     "name": "stdout",
     "output_type": "stream",
     "text": [
      "They dancing together.\n"
     ]
    },
    {
     "data": {
      "text/plain": "<IPython.core.display.HTML object>",
      "text/html": "<font size=\"+2\">🙅 👯 🆙</font>"
     },
     "metadata": {},
     "output_type": "display_data"
    },
    {
     "name": "stdout",
     "output_type": "stream",
     "text": [
      "I learning English.\n"
     ]
    },
    {
     "data": {
      "text/plain": "<IPython.core.display.HTML object>",
      "text/html": "<font size=\"+2\">🆔 🏴󠁧󠁢󠁥󠁮󠁧󠁿</font>"
     },
     "metadata": {},
     "output_type": "display_data"
    },
    {
     "name": "stdout",
     "output_type": "stream",
     "text": [
      "The car moving.\n"
     ]
    },
    {
     "data": {
      "text/plain": "<IPython.core.display.HTML object>",
      "text/html": "<font size=\"+2\">🚗 🔙</font>"
     },
     "metadata": {},
     "output_type": "display_data"
    },
    {
     "name": "stdout",
     "output_type": "stream",
     "text": [
      "She wearing dress.\n"
     ]
    },
    {
     "data": {
      "text/plain": "<IPython.core.display.HTML object>",
      "text/html": "<font size=\"+2\">👩 👕 👗</font>"
     },
     "metadata": {},
     "output_type": "display_data"
    },
    {
     "name": "stdout",
     "output_type": "stream",
     "text": [
      "The flowers blooming.\n"
     ]
    },
    {
     "data": {
      "text/plain": "<IPython.core.display.HTML object>",
      "text/html": "<font size=\"+2\">💐</font>"
     },
     "metadata": {},
     "output_type": "display_data"
    },
    {
     "name": "stdout",
     "output_type": "stream",
     "text": [
      "He swimming in the pool.\n"
     ]
    },
    {
     "data": {
      "text/plain": "<IPython.core.display.HTML object>",
      "text/html": "<font size=\"+2\">👨 🏐</font>"
     },
     "metadata": {},
     "output_type": "display_data"
    },
    {
     "name": "stdout",
     "output_type": "stream",
     "text": [
      "They riding bicycles.\n"
     ]
    },
    {
     "data": {
      "text/plain": "<IPython.core.display.HTML object>",
      "text/html": "<font size=\"+2\">🙅 🏍️ 🚲</font>"
     },
     "metadata": {},
     "output_type": "display_data"
    },
    {
     "name": "stdout",
     "output_type": "stream",
     "text": [
      "I drawing picture.\n"
     ]
    },
    {
     "data": {
      "text/plain": "<IPython.core.display.HTML object>",
      "text/html": "<font size=\"+2\">🆔 🖼️</font>"
     },
     "metadata": {},
     "output_type": "display_data"
    },
    {
     "name": "stdout",
     "output_type": "stream",
     "text": [
      "The train arriving.\n"
     ]
    },
    {
     "data": {
      "text/plain": "<IPython.core.display.HTML object>",
      "text/html": "<font size=\"+2\">🚋</font>"
     },
     "metadata": {},
     "output_type": "display_data"
    },
    {
     "name": "stdout",
     "output_type": "stream",
     "text": [
      "She playing the piano.\n"
     ]
    },
    {
     "data": {
      "text/plain": "<IPython.core.display.HTML object>",
      "text/html": "<font size=\"+2\">👩 🏈 🎻</font>"
     },
     "metadata": {},
     "output_type": "display_data"
    },
    {
     "name": "stdout",
     "output_type": "stream",
     "text": [
      "The glass full.\n"
     ]
    },
    {
     "data": {
      "text/plain": "<IPython.core.display.HTML object>",
      "text/html": "<font size=\"+2\">🍷 🙅</font>"
     },
     "metadata": {},
     "output_type": "display_data"
    },
    {
     "name": "stdout",
     "output_type": "stream",
     "text": [
      "He driving car.\n"
     ]
    },
    {
     "data": {
      "text/plain": "<IPython.core.display.HTML object>",
      "text/html": "<font size=\"+2\">👨 🚗 🚗</font>"
     },
     "metadata": {},
     "output_type": "display_data"
    },
    {
     "name": "stdout",
     "output_type": "stream",
     "text": [
      "They speaking French.\n"
     ]
    },
    {
     "data": {
      "text/plain": "<IPython.core.display.HTML object>",
      "text/html": "<font size=\"+2\">🙅 🗣️ 🇫🇷</font>"
     },
     "metadata": {},
     "output_type": "display_data"
    },
    {
     "name": "stdout",
     "output_type": "stream",
     "text": [
      "I taking bath.\n"
     ]
    },
    {
     "data": {
      "text/plain": "<IPython.core.display.HTML object>",
      "text/html": "<font size=\"+2\">🆔 🛀</font>"
     },
     "metadata": {},
     "output_type": "display_data"
    },
    {
     "name": "stdout",
     "output_type": "stream",
     "text": [
      "The moon bright.\n"
     ]
    },
    {
     "data": {
      "text/plain": "<IPython.core.display.HTML object>",
      "text/html": "<font size=\"+2\">🌔 ☀️</font>"
     },
     "metadata": {},
     "output_type": "display_data"
    },
    {
     "name": "stdout",
     "output_type": "stream",
     "text": [
      "She tying her shoes.\n"
     ]
    },
    {
     "data": {
      "text/plain": "<IPython.core.display.HTML object>",
      "text/html": "<font size=\"+2\">👩 👩 👞</font>"
     },
     "metadata": {},
     "output_type": "display_data"
    },
    {
     "name": "stdout",
     "output_type": "stream",
     "text": [
      "The clock ticking.\n"
     ]
    },
    {
     "data": {
      "text/plain": "<IPython.core.display.HTML object>",
      "text/html": "<font size=\"+2\">⏲️</font>"
     },
     "metadata": {},
     "output_type": "display_data"
    },
    {
     "name": "stdout",
     "output_type": "stream",
     "text": [
      "He climbing tree.\n"
     ]
    },
    {
     "data": {
      "text/plain": "<IPython.core.display.HTML object>",
      "text/html": "<font size=\"+2\">👨 🧗‍♂️ 🎄</font>"
     },
     "metadata": {},
     "output_type": "display_data"
    },
    {
     "name": "stdout",
     "output_type": "stream",
     "text": [
      "They making cake.\n"
     ]
    },
    {
     "data": {
      "text/plain": "<IPython.core.display.HTML object>",
      "text/html": "<font size=\"+2\">🙅 🍰</font>"
     },
     "metadata": {},
     "output_type": "display_data"
    },
    {
     "name": "stdout",
     "output_type": "stream",
     "text": [
      "I writing email.\n"
     ]
    },
    {
     "data": {
      "text/plain": "<IPython.core.display.HTML object>",
      "text/html": "<font size=\"+2\">🆔 📚 📧</font>"
     },
     "metadata": {},
     "output_type": "display_data"
    },
    {
     "name": "stdout",
     "output_type": "stream",
     "text": [
      "The river flowing.\n"
     ]
    },
    {
     "data": {
      "text/plain": "<IPython.core.display.HTML object>",
      "text/html": "<font size=\"+2\"></font>"
     },
     "metadata": {},
     "output_type": "display_data"
    },
    {
     "name": "stdout",
     "output_type": "stream",
     "text": [
      "She jumping rope.\n"
     ]
    },
    {
     "data": {
      "text/plain": "<IPython.core.display.HTML object>",
      "text/html": "<font size=\"+2\">👩 🎿</font>"
     },
     "metadata": {},
     "output_type": "display_data"
    },
    {
     "name": "stdout",
     "output_type": "stream",
     "text": [
      "The window open.\n"
     ]
    },
    {
     "data": {
      "text/plain": "<IPython.core.display.HTML object>",
      "text/html": "<font size=\"+2\">🚪 👐</font>"
     },
     "metadata": {},
     "output_type": "display_data"
    },
    {
     "name": "stdout",
     "output_type": "stream",
     "text": [
      "He fixing the bike.\n"
     ]
    },
    {
     "data": {
      "text/plain": "<IPython.core.display.HTML object>",
      "text/html": "<font size=\"+2\">👨 🚲</font>"
     },
     "metadata": {},
     "output_type": "display_data"
    },
    {
     "name": "stdout",
     "output_type": "stream",
     "text": [
      "They planting flowers.\n"
     ]
    },
    {
     "data": {
      "text/plain": "<IPython.core.display.HTML object>",
      "text/html": "<font size=\"+2\">🙅 💮</font>"
     },
     "metadata": {},
     "output_type": "display_data"
    },
    {
     "name": "stdout",
     "output_type": "stream",
     "text": [
      "I brushing my teeth.\n"
     ]
    },
    {
     "data": {
      "text/plain": "<IPython.core.display.HTML object>",
      "text/html": "<font size=\"+2\">🆔 👀</font>"
     },
     "metadata": {},
     "output_type": "display_data"
    },
    {
     "name": "stdout",
     "output_type": "stream",
     "text": [
      "The stars twinkling.\n"
     ]
    },
    {
     "data": {
      "text/plain": "<IPython.core.display.HTML object>",
      "text/html": "<font size=\"+2\">🌠 👀</font>"
     },
     "metadata": {},
     "output_type": "display_data"
    },
    {
     "name": "stdout",
     "output_type": "stream",
     "text": [
      "She feeding the cat.\n"
     ]
    },
    {
     "data": {
      "text/plain": "<IPython.core.display.HTML object>",
      "text/html": "<font size=\"+2\">👩 🐱</font>"
     },
     "metadata": {},
     "output_type": "display_data"
    },
    {
     "name": "stdout",
     "output_type": "stream",
     "text": [
      "The light on.\n"
     ]
    },
    {
     "data": {
      "text/plain": "<IPython.core.display.HTML object>",
      "text/html": "<font size=\"+2\">💡 🔛</font>"
     },
     "metadata": {},
     "output_type": "display_data"
    },
    {
     "name": "stdout",
     "output_type": "stream",
     "text": [
      "He cutting the grass.\n"
     ]
    },
    {
     "data": {
      "text/plain": "<IPython.core.display.HTML object>",
      "text/html": "<font size=\"+2\">👨</font>"
     },
     "metadata": {},
     "output_type": "display_data"
    },
    {
     "name": "stdout",
     "output_type": "stream",
     "text": [
      "They building sandcastle.\n"
     ]
    },
    {
     "data": {
      "text/plain": "<IPython.core.display.HTML object>",
      "text/html": "<font size=\"+2\">🙅 🏗️</font>"
     },
     "metadata": {},
     "output_type": "display_data"
    },
    {
     "name": "stdout",
     "output_type": "stream",
     "text": [
      "I listening to music.\n"
     ]
    },
    {
     "data": {
      "text/plain": "<IPython.core.display.HTML object>",
      "text/html": "<font size=\"+2\">🆔 🔉</font>"
     },
     "metadata": {},
     "output_type": "display_data"
    },
    {
     "name": "stdout",
     "output_type": "stream",
     "text": [
      "The leaves falling.\n"
     ]
    },
    {
     "data": {
      "text/plain": "<IPython.core.display.HTML object>",
      "text/html": "<font size=\"+2\">🍃 🌹</font>"
     },
     "metadata": {},
     "output_type": "display_data"
    },
    {
     "name": "stdout",
     "output_type": "stream",
     "text": [
      "She washing the dishes.\n"
     ]
    },
    {
     "data": {
      "text/plain": "<IPython.core.display.HTML object>",
      "text/html": "<font size=\"+2\">👩 🍳</font>"
     },
     "metadata": {},
     "output_type": "display_data"
    },
    {
     "name": "stdout",
     "output_type": "stream",
     "text": [
      "The book on the table.\n"
     ]
    },
    {
     "data": {
      "text/plain": "<IPython.core.display.HTML object>",
      "text/html": "<font size=\"+2\">📖 🔛</font>"
     },
     "metadata": {},
     "output_type": "display_data"
    },
    {
     "name": "stdout",
     "output_type": "stream",
     "text": [
      "He painting picture.\n"
     ]
    },
    {
     "data": {
      "text/plain": "<IPython.core.display.HTML object>",
      "text/html": "<font size=\"+2\">👨 🎨 🖼️</font>"
     },
     "metadata": {},
     "output_type": "display_data"
    },
    {
     "name": "stdout",
     "output_type": "stream",
     "text": [
      "They studying math.\n"
     ]
    },
    {
     "data": {
      "text/plain": "<IPython.core.display.HTML object>",
      "text/html": "<font size=\"+2\">🙅 🏫</font>"
     },
     "metadata": {},
     "output_type": "display_data"
    },
    {
     "name": "stdout",
     "output_type": "stream",
     "text": [
      "I making sandwich.\n"
     ]
    },
    {
     "data": {
      "text/plain": "<IPython.core.display.HTML object>",
      "text/html": "<font size=\"+2\">🆔 🥪</font>"
     },
     "metadata": {},
     "output_type": "display_data"
    },
    {
     "name": "stdout",
     "output_type": "stream",
     "text": [
      "The snow melting.\n"
     ]
    },
    {
     "data": {
      "text/plain": "<IPython.core.display.HTML object>",
      "text/html": "<font size=\"+2\">🏔️</font>"
     },
     "metadata": {},
     "output_type": "display_data"
    },
    {
     "name": "stdout",
     "output_type": "stream",
     "text": [
      "She ironing clothes.\n"
     ]
    },
    {
     "data": {
      "text/plain": "<IPython.core.display.HTML object>",
      "text/html": "<font size=\"+2\">👩 👗</font>"
     },
     "metadata": {},
     "output_type": "display_data"
    },
    {
     "name": "stdout",
     "output_type": "stream",
     "text": [
      "The bus late.\n"
     ]
    },
    {
     "data": {
      "text/plain": "<IPython.core.display.HTML object>",
      "text/html": "<font size=\"+2\">🚌 🔚</font>"
     },
     "metadata": {},
     "output_type": "display_data"
    },
    {
     "name": "stdout",
     "output_type": "stream",
     "text": [
      "He tying tie.\n"
     ]
    },
    {
     "data": {
      "text/plain": "<IPython.core.display.HTML object>",
      "text/html": "<font size=\"+2\">👨</font>"
     },
     "metadata": {},
     "output_type": "display_data"
    },
    {
     "name": "stdout",
     "output_type": "stream",
     "text": [
      "They playing chess.\n"
     ]
    },
    {
     "data": {
      "text/plain": "<IPython.core.display.HTML object>",
      "text/html": "<font size=\"+2\">🙅 🏈 🎾</font>"
     },
     "metadata": {},
     "output_type": "display_data"
    },
    {
     "name": "stdout",
     "output_type": "stream",
     "text": [
      "I riding horse.\n"
     ]
    },
    {
     "data": {
      "text/plain": "<IPython.core.display.HTML object>",
      "text/html": "<font size=\"+2\">🆔 🏍️ 🐴</font>"
     },
     "metadata": {},
     "output_type": "display_data"
    },
    {
     "name": "stdout",
     "output_type": "stream",
     "text": [
      "The kettle boiling.\n"
     ]
    },
    {
     "data": {
      "text/plain": "<IPython.core.display.HTML object>",
      "text/html": "<font size=\"+2\"></font>"
     },
     "metadata": {},
     "output_type": "display_data"
    },
    {
     "name": "stdout",
     "output_type": "stream",
     "text": [
      "She cleaning the room.\n"
     ]
    },
    {
     "data": {
      "text/plain": "<IPython.core.display.HTML object>",
      "text/html": "<font size=\"+2\">👩 🏠</font>"
     },
     "metadata": {},
     "output_type": "display_data"
    },
    {
     "name": "stdout",
     "output_type": "stream",
     "text": [
      "The baby sleeping.\n"
     ]
    },
    {
     "data": {
      "text/plain": "<IPython.core.display.HTML object>",
      "text/html": "<font size=\"+2\">👶 😴</font>"
     },
     "metadata": {},
     "output_type": "display_data"
    },
    {
     "name": "stdout",
     "output_type": "stream",
     "text": [
      "He peeling orange.\n"
     ]
    },
    {
     "data": {
      "text/plain": "<IPython.core.display.HTML object>",
      "text/html": "<font size=\"+2\">👨 📙</font>"
     },
     "metadata": {},
     "output_type": "display_data"
    },
    {
     "name": "stdout",
     "output_type": "stream",
     "text": [
      "They hiking in the woods.\n"
     ]
    },
    {
     "data": {
      "text/plain": "<IPython.core.display.HTML object>",
      "text/html": "<font size=\"+2\">🙅 🏕️ ⛳</font>"
     },
     "metadata": {},
     "output_type": "display_data"
    },
    {
     "name": "stdout",
     "output_type": "stream",
     "text": [
      "I shopping for groceries.\n"
     ]
    },
    {
     "data": {
      "text/plain": "<IPython.core.display.HTML object>",
      "text/html": "<font size=\"+2\">🆔 🛍️ 🛍️</font>"
     },
     "metadata": {},
     "output_type": "display_data"
    },
    {
     "name": "stdout",
     "output_type": "stream",
     "text": [
      "The bird flying.\n"
     ]
    },
    {
     "data": {
      "text/plain": "<IPython.core.display.HTML object>",
      "text/html": "<font size=\"+2\">🐦 🛸</font>"
     },
     "metadata": {},
     "output_type": "display_data"
    },
    {
     "name": "stdout",
     "output_type": "stream",
     "text": [
      "She playing guitar.\n"
     ]
    },
    {
     "data": {
      "text/plain": "<IPython.core.display.HTML object>",
      "text/html": "<font size=\"+2\">👩 🏈 🎸</font>"
     },
     "metadata": {},
     "output_type": "display_data"
    },
    {
     "name": "stdout",
     "output_type": "stream",
     "text": [
      "The bell ringing.\n"
     ]
    },
    {
     "data": {
      "text/plain": "<IPython.core.display.HTML object>",
      "text/html": "<font size=\"+2\">🔔 ☎️</font>"
     },
     "metadata": {},
     "output_type": "display_data"
    },
    {
     "name": "stdout",
     "output_type": "stream",
     "text": [
      "He baking bread.\n"
     ]
    },
    {
     "data": {
      "text/plain": "<IPython.core.display.HTML object>",
      "text/html": "<font size=\"+2\">👨 🍪 🍞</font>"
     },
     "metadata": {},
     "output_type": "display_data"
    },
    {
     "name": "stdout",
     "output_type": "stream",
     "text": [
      "They watching the sunrise.\n"
     ]
    },
    {
     "data": {
      "text/plain": "<IPython.core.display.HTML object>",
      "text/html": "<font size=\"+2\">🙅 ⌚ 🌅</font>"
     },
     "metadata": {},
     "output_type": "display_data"
    },
    {
     "name": "stdout",
     "output_type": "stream",
     "text": [
      "I watering the plants.\n"
     ]
    },
    {
     "data": {
      "text/plain": "<IPython.core.display.HTML object>",
      "text/html": "<font size=\"+2\">🆔</font>"
     },
     "metadata": {},
     "output_type": "display_data"
    },
    {
     "name": "stdout",
     "output_type": "stream",
     "text": [
      "The fish swimming.\n"
     ]
    },
    {
     "data": {
      "text/plain": "<IPython.core.display.HTML object>",
      "text/html": "<font size=\"+2\">🐟 🏊‍♀️</font>"
     },
     "metadata": {},
     "output_type": "display_data"
    },
    {
     "name": "stdout",
     "output_type": "stream",
     "text": [
      "She taking selfie.\n"
     ]
    },
    {
     "data": {
      "text/plain": "<IPython.core.display.HTML object>",
      "text/html": "<font size=\"+2\">👩 🙅</font>"
     },
     "metadata": {},
     "output_type": "display_data"
    },
    {
     "name": "stdout",
     "output_type": "stream",
     "text": [
      "The alarm sounding.\n"
     ]
    },
    {
     "data": {
      "text/plain": "<IPython.core.display.HTML object>",
      "text/html": "<font size=\"+2\">⏰ 🔉</font>"
     },
     "metadata": {},
     "output_type": "display_data"
    },
    {
     "name": "stdout",
     "output_type": "stream",
     "text": [
      "He playing basketball.\n"
     ]
    },
    {
     "data": {
      "text/plain": "<IPython.core.display.HTML object>",
      "text/html": "<font size=\"+2\">👨 🏈 🏀</font>"
     },
     "metadata": {},
     "output_type": "display_data"
    },
    {
     "name": "stdout",
     "output_type": "stream",
     "text": [
      "They visiting museum.\n"
     ]
    },
    {
     "data": {
      "text/plain": "<IPython.core.display.HTML object>",
      "text/html": "<font size=\"+2\">🙅 🎨</font>"
     },
     "metadata": {},
     "output_type": "display_data"
    },
    {
     "name": "stdout",
     "output_type": "stream",
     "text": [
      "I reading magazine.\n"
     ]
    },
    {
     "data": {
      "text/plain": "<IPython.core.display.HTML object>",
      "text/html": "<font size=\"+2\">🆔 📰</font>"
     },
     "metadata": {},
     "output_type": "display_data"
    },
    {
     "name": "stdout",
     "output_type": "stream",
     "text": [
      "The cat purring.\n"
     ]
    },
    {
     "data": {
      "text/plain": "<IPython.core.display.HTML object>",
      "text/html": "<font size=\"+2\">🐱</font>"
     },
     "metadata": {},
     "output_type": "display_data"
    }
   ],
   "source": [
    "# -------------------------------------------------------------------------------------------------------- #\n",
    "# Using the GloVe vectors to find the most similar emojis for each sentence.                               #\n",
    "# -------------------------------------------------------------------------------------------------------- #\n",
    "    \n",
    "for sentence in updated_sentences:                                           # Looping through each sentence\n",
    "    l=[]\n",
    "    \n",
    "    for w in sentence.split(\" \"):                                # Looping through each word in the sentence\n",
    "        v       = nlp(w.lower()).vector                                    # Getting the vector for the word\n",
    "        ms,sim  = most_similar(doc_vectors, v)                              # Getting the most similar emoji\n",
    " \n",
    "        # ------------------------------------------------------------------------------------------------ #\n",
    "        # Defining a threshold for the similarity score to filter out emojis that are not similar enough.  #\n",
    "        # ------------------------------------------------------------------------------------------------ #\n",
    "\n",
    "        if(sim>0.0115):                              # If the similarity score is greater than the threshold \n",
    "            word = emo_get[ms]                                    # Get the emoji for the most similar emoji\n",
    "            l.append(emoji.emojize(word,language='alias'))                    # Append the emoji to the list\n",
    "            \n",
    "\n",
    "    print(sentence)\n",
    "    display(HTML('<font size=\"+2\">{}</font>'.format(' '.join([x for x in l]))))      # Displaying the emojis"
   ],
   "metadata": {
    "collapsed": false,
    "ExecuteTime": {
     "end_time": "2024-01-22T02:25:04.173341Z",
     "start_time": "2024-01-22T02:24:59.766172Z"
    }
   }
  },
  {
   "cell_type": "code",
   "execution_count": null,
   "outputs": [],
   "source": [],
   "metadata": {
    "collapsed": false,
    "ExecuteTime": {
     "start_time": "2024-01-22T01:45:22.228084Z"
    }
   }
  }
 ],
 "metadata": {
  "kernelspec": {
   "display_name": "Python 3",
   "language": "python",
   "name": "python3"
  },
  "language_info": {
   "codemirror_mode": {
    "name": "ipython",
    "version": 3
   },
   "file_extension": ".py",
   "mimetype": "text/x-python",
   "name": "python",
   "nbconvert_exporter": "python",
   "pygments_lexer": "ipython3",
   "version": "3.6.5"
  },
  "colab": {
   "provenance": []
  }
 },
 "nbformat": 4,
 "nbformat_minor": 0
}
